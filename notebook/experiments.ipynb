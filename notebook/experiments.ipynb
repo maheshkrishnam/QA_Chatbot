{
 "cells": [
  {
   "cell_type": "markdown",
   "metadata": {},
   "source": [
    "## Importing dependencies"
   ]
  },
  {
   "cell_type": "code",
   "execution_count": 74,
   "metadata": {},
   "outputs": [
    {
     "data": {
      "text/plain": [
       "True"
      ]
     },
     "execution_count": 74,
     "metadata": {},
     "output_type": "execute_result"
    }
   ],
   "source": [
    "import os\n",
    "from dotenv import load_dotenv\n",
    "load_dotenv()"
   ]
  },
  {
   "cell_type": "markdown",
   "metadata": {},
   "source": [
    "### Readin Gemini API key"
   ]
  },
  {
   "cell_type": "code",
   "execution_count": 75,
   "metadata": {},
   "outputs": [],
   "source": [
    "gemini_api_key = os.getenv('GEMINI_API_KEY')"
   ]
  },
  {
   "cell_type": "code",
   "execution_count": 76,
   "metadata": {},
   "outputs": [
    {
     "name": "stdout",
     "output_type": "stream",
     "text": [
      "api key FOUND\n"
     ]
    }
   ],
   "source": [
    "if gemini_api_key:\n",
    "    print(\"api key FOUND\")\n",
    "else:\n",
    "    print(\"api key NOT FOUND\")"
   ]
  },
  {
   "cell_type": "code",
   "execution_count": 77,
   "metadata": {},
   "outputs": [],
   "source": [
    "import google.generativeai as genai\n",
    "from IPython.display import Markdown, display\n",
    "import llama_index\n",
    "from llama_index.llms.gemini import Gemini\n",
    "from llama_index.core.node_parser import SentenceSplitter\n",
    "from llama_index.core import SimpleDirectoryReader, VectorStoreIndex, Settings, StorageContext, load_index_from_storage\n",
    "from llama_index.embeddings.gemini import GeminiEmbedding "
   ]
  },
  {
   "cell_type": "markdown",
   "metadata": {},
   "source": [
    "## Pipeline"
   ]
  },
  {
   "cell_type": "markdown",
   "metadata": {},
   "source": [
    "### Ingestion "
   ]
  },
  {
   "cell_type": "code",
   "execution_count": 78,
   "metadata": {},
   "outputs": [],
   "source": [
    "genai.configure(api_key=gemini_api_key)"
   ]
  },
  {
   "cell_type": "code",
   "execution_count": 79,
   "metadata": {},
   "outputs": [
    {
     "name": "stdout",
     "output_type": "stream",
     "text": [
      "Model(name='models/chat-bison-001',\n",
      "      base_model_id='',\n",
      "      version='001',\n",
      "      display_name='PaLM 2 Chat (Legacy)',\n",
      "      description='A legacy text-only model optimized for chat conversations',\n",
      "      input_token_limit=4096,\n",
      "      output_token_limit=1024,\n",
      "      supported_generation_methods=['generateMessage', 'countMessageTokens'],\n",
      "      temperature=0.25,\n",
      "      top_p=0.95,\n",
      "      top_k=40)\n",
      "Model(name='models/text-bison-001',\n",
      "      base_model_id='',\n",
      "      version='001',\n",
      "      display_name='PaLM 2 (Legacy)',\n",
      "      description='A legacy model that understands text and generates text as an output',\n",
      "      input_token_limit=8196,\n",
      "      output_token_limit=1024,\n",
      "      supported_generation_methods=['generateText', 'countTextTokens', 'createTunedTextModel'],\n",
      "      temperature=0.7,\n",
      "      top_p=0.95,\n",
      "      top_k=40)\n",
      "Model(name='models/embedding-gecko-001',\n",
      "      base_model_id='',\n",
      "      version='001',\n",
      "      display_name='Embedding Gecko',\n",
      "      description='Obtain a distributed representation of a text.',\n",
      "      input_token_limit=1024,\n",
      "      output_token_limit=1,\n",
      "      supported_generation_methods=['embedText', 'countTextTokens'],\n",
      "      temperature=None,\n",
      "      top_p=None,\n",
      "      top_k=None)\n",
      "Model(name='models/gemini-1.0-pro-latest',\n",
      "      base_model_id='',\n",
      "      version='001',\n",
      "      display_name='Gemini 1.0 Pro Latest',\n",
      "      description=('The best model for scaling across a wide range of tasks. This is the latest '\n",
      "                   'model.'),\n",
      "      input_token_limit=30720,\n",
      "      output_token_limit=2048,\n",
      "      supported_generation_methods=['generateContent', 'countTokens'],\n",
      "      temperature=0.9,\n",
      "      top_p=1.0,\n",
      "      top_k=None)\n",
      "Model(name='models/gemini-1.0-pro',\n",
      "      base_model_id='',\n",
      "      version='001',\n",
      "      display_name='Gemini 1.0 Pro',\n",
      "      description='The best model for scaling across a wide range of tasks',\n",
      "      input_token_limit=30720,\n",
      "      output_token_limit=2048,\n",
      "      supported_generation_methods=['generateContent', 'countTokens'],\n",
      "      temperature=0.9,\n",
      "      top_p=1.0,\n",
      "      top_k=None)\n",
      "Model(name='models/gemini-pro',\n",
      "      base_model_id='',\n",
      "      version='001',\n",
      "      display_name='Gemini 1.0 Pro',\n",
      "      description='The best model for scaling across a wide range of tasks',\n",
      "      input_token_limit=30720,\n",
      "      output_token_limit=2048,\n",
      "      supported_generation_methods=['generateContent', 'countTokens'],\n",
      "      temperature=0.9,\n",
      "      top_p=1.0,\n",
      "      top_k=None)\n",
      "Model(name='models/gemini-1.0-pro-001',\n",
      "      base_model_id='',\n",
      "      version='001',\n",
      "      display_name='Gemini 1.0 Pro 001 (Tuning)',\n",
      "      description=('The best model for scaling across a wide range of tasks. This is a stable '\n",
      "                   'model that supports tuning.'),\n",
      "      input_token_limit=30720,\n",
      "      output_token_limit=2048,\n",
      "      supported_generation_methods=['generateContent', 'countTokens', 'createTunedModel'],\n",
      "      temperature=0.9,\n",
      "      top_p=1.0,\n",
      "      top_k=None)\n",
      "Model(name='models/gemini-1.0-pro-vision-latest',\n",
      "      base_model_id='',\n",
      "      version='001',\n",
      "      display_name='Gemini 1.0 Pro Vision',\n",
      "      description='The best image understanding model to handle a broad range of applications',\n",
      "      input_token_limit=12288,\n",
      "      output_token_limit=4096,\n",
      "      supported_generation_methods=['generateContent', 'countTokens'],\n",
      "      temperature=0.4,\n",
      "      top_p=1.0,\n",
      "      top_k=32)\n",
      "Model(name='models/gemini-pro-vision',\n",
      "      base_model_id='',\n",
      "      version='001',\n",
      "      display_name='Gemini 1.0 Pro Vision',\n",
      "      description='The best image understanding model to handle a broad range of applications',\n",
      "      input_token_limit=12288,\n",
      "      output_token_limit=4096,\n",
      "      supported_generation_methods=['generateContent', 'countTokens'],\n",
      "      temperature=0.4,\n",
      "      top_p=1.0,\n",
      "      top_k=32)\n",
      "Model(name='models/gemini-1.5-pro-latest',\n",
      "      base_model_id='',\n",
      "      version='001',\n",
      "      display_name='Gemini 1.5 Pro Latest',\n",
      "      description='Mid-size multimodal model that supports up to 2 million tokens',\n",
      "      input_token_limit=2097152,\n",
      "      output_token_limit=8192,\n",
      "      supported_generation_methods=['generateContent', 'countTokens'],\n",
      "      temperature=1.0,\n",
      "      top_p=0.95,\n",
      "      top_k=64)\n",
      "Model(name='models/gemini-1.5-pro-001',\n",
      "      base_model_id='',\n",
      "      version='001',\n",
      "      display_name='Gemini 1.5 Pro 001',\n",
      "      description='Mid-size multimodal model that supports up to 2 million tokens',\n",
      "      input_token_limit=2097152,\n",
      "      output_token_limit=8192,\n",
      "      supported_generation_methods=['generateContent', 'countTokens', 'createCachedContent'],\n",
      "      temperature=1.0,\n",
      "      top_p=0.95,\n",
      "      top_k=64)\n",
      "Model(name='models/gemini-1.5-pro',\n",
      "      base_model_id='',\n",
      "      version='001',\n",
      "      display_name='Gemini 1.5 Pro',\n",
      "      description='Mid-size multimodal model that supports up to 2 million tokens',\n",
      "      input_token_limit=2097152,\n",
      "      output_token_limit=8192,\n",
      "      supported_generation_methods=['generateContent', 'countTokens'],\n",
      "      temperature=1.0,\n",
      "      top_p=0.95,\n",
      "      top_k=64)\n",
      "Model(name='models/gemini-1.5-pro-exp-0801',\n",
      "      base_model_id='',\n",
      "      version='exp-0801',\n",
      "      display_name='Gemini 1.5 Pro Experimental 0801',\n",
      "      description='Mid-size multimodal model that supports up to 2 million tokens',\n",
      "      input_token_limit=2097152,\n",
      "      output_token_limit=8192,\n",
      "      supported_generation_methods=['generateContent', 'countTokens'],\n",
      "      temperature=1.0,\n",
      "      top_p=0.95,\n",
      "      top_k=64)\n",
      "Model(name='models/gemini-1.5-flash-latest',\n",
      "      base_model_id='',\n",
      "      version='001',\n",
      "      display_name='Gemini 1.5 Flash Latest',\n",
      "      description='Fast and versatile multimodal model for scaling across diverse tasks',\n",
      "      input_token_limit=1048576,\n",
      "      output_token_limit=8192,\n",
      "      supported_generation_methods=['generateContent', 'countTokens'],\n",
      "      temperature=1.0,\n",
      "      top_p=0.95,\n",
      "      top_k=64)\n",
      "Model(name='models/gemini-1.5-flash-001',\n",
      "      base_model_id='',\n",
      "      version='001',\n",
      "      display_name='Gemini 1.5 Flash 001',\n",
      "      description='Fast and versatile multimodal model for scaling across diverse tasks',\n",
      "      input_token_limit=1048576,\n",
      "      output_token_limit=8192,\n",
      "      supported_generation_methods=['generateContent', 'countTokens', 'createCachedContent'],\n",
      "      temperature=1.0,\n",
      "      top_p=0.95,\n",
      "      top_k=64)\n",
      "Model(name='models/gemini-1.5-flash',\n",
      "      base_model_id='',\n",
      "      version='001',\n",
      "      display_name='Gemini 1.5 Flash',\n",
      "      description='Fast and versatile multimodal model for scaling across diverse tasks',\n",
      "      input_token_limit=1048576,\n",
      "      output_token_limit=8192,\n",
      "      supported_generation_methods=['generateContent', 'countTokens'],\n",
      "      temperature=1.0,\n",
      "      top_p=0.95,\n",
      "      top_k=64)\n",
      "Model(name='models/gemini-1.5-flash-001-tuning',\n",
      "      base_model_id='',\n",
      "      version='001',\n",
      "      display_name='Gemini 1.5 Flash 001 Tuning',\n",
      "      description='Fast and versatile multimodal model for scaling across diverse tasks',\n",
      "      input_token_limit=16384,\n",
      "      output_token_limit=8192,\n",
      "      supported_generation_methods=['generateContent', 'countTokens', 'createTunedModel'],\n",
      "      temperature=1.0,\n",
      "      top_p=0.95,\n",
      "      top_k=64)\n",
      "Model(name='models/embedding-001',\n",
      "      base_model_id='',\n",
      "      version='001',\n",
      "      display_name='Embedding 001',\n",
      "      description='Obtain a distributed representation of a text.',\n",
      "      input_token_limit=2048,\n",
      "      output_token_limit=1,\n",
      "      supported_generation_methods=['embedContent'],\n",
      "      temperature=None,\n",
      "      top_p=None,\n",
      "      top_k=None)\n",
      "Model(name='models/text-embedding-004',\n",
      "      base_model_id='',\n",
      "      version='004',\n",
      "      display_name='Text Embedding 004',\n",
      "      description='Obtain a distributed representation of a text.',\n",
      "      input_token_limit=2048,\n",
      "      output_token_limit=1,\n",
      "      supported_generation_methods=['embedContent'],\n",
      "      temperature=None,\n",
      "      top_p=None,\n",
      "      top_k=None)\n",
      "Model(name='models/aqa',\n",
      "      base_model_id='',\n",
      "      version='001',\n",
      "      display_name='Model that performs Attributed Question Answering.',\n",
      "      description=('Model trained to return answers to questions that are grounded in provided '\n",
      "                   'sources, along with estimating answerable probability.'),\n",
      "      input_token_limit=7168,\n",
      "      output_token_limit=1024,\n",
      "      supported_generation_methods=['generateAnswer'],\n",
      "      temperature=0.2,\n",
      "      top_p=1.0,\n",
      "      top_k=40)\n"
     ]
    }
   ],
   "source": [
    "for model in genai.list_models():\n",
    "    print(model)"
   ]
  },
  {
   "cell_type": "code",
   "execution_count": 80,
   "metadata": {},
   "outputs": [
    {
     "name": "stdout",
     "output_type": "stream",
     "text": [
      "Name : models/chat-bison-001 |--| Generation method : ['generateMessage', 'countMessageTokens']\n",
      "Name : models/text-bison-001 |--| Generation method : ['generateText', 'countTextTokens', 'createTunedTextModel']\n",
      "Name : models/embedding-gecko-001 |--| Generation method : ['embedText', 'countTextTokens']\n",
      "Name : models/gemini-1.0-pro-latest |--| Generation method : ['generateContent', 'countTokens']\n",
      "Name : models/gemini-1.0-pro |--| Generation method : ['generateContent', 'countTokens']\n",
      "Name : models/gemini-pro |--| Generation method : ['generateContent', 'countTokens']\n",
      "Name : models/gemini-1.0-pro-001 |--| Generation method : ['generateContent', 'countTokens', 'createTunedModel']\n",
      "Name : models/gemini-1.0-pro-vision-latest |--| Generation method : ['generateContent', 'countTokens']\n",
      "Name : models/gemini-pro-vision |--| Generation method : ['generateContent', 'countTokens']\n",
      "Name : models/gemini-1.5-pro-latest |--| Generation method : ['generateContent', 'countTokens']\n",
      "Name : models/gemini-1.5-pro-001 |--| Generation method : ['generateContent', 'countTokens', 'createCachedContent']\n",
      "Name : models/gemini-1.5-pro |--| Generation method : ['generateContent', 'countTokens']\n",
      "Name : models/gemini-1.5-pro-exp-0801 |--| Generation method : ['generateContent', 'countTokens']\n",
      "Name : models/gemini-1.5-flash-latest |--| Generation method : ['generateContent', 'countTokens']\n",
      "Name : models/gemini-1.5-flash-001 |--| Generation method : ['generateContent', 'countTokens', 'createCachedContent']\n",
      "Name : models/gemini-1.5-flash |--| Generation method : ['generateContent', 'countTokens']\n",
      "Name : models/gemini-1.5-flash-001-tuning |--| Generation method : ['generateContent', 'countTokens', 'createTunedModel']\n",
      "Name : models/embedding-001 |--| Generation method : ['embedContent']\n",
      "Name : models/text-embedding-004 |--| Generation method : ['embedContent']\n",
      "Name : models/aqa |--| Generation method : ['generateAnswer']\n"
     ]
    }
   ],
   "source": [
    "for model in genai.list_models():\n",
    "    print(f'Name : {model.name} |--| Generation method : {model.supported_generation_methods}')"
   ]
  },
  {
   "cell_type": "code",
   "execution_count": 81,
   "metadata": {},
   "outputs": [],
   "source": [
    "documents = SimpleDirectoryReader(\"../Data\")"
   ]
  },
  {
   "cell_type": "code",
   "execution_count": 82,
   "metadata": {},
   "outputs": [],
   "source": [
    "doc = documents.load_data()"
   ]
  },
  {
   "cell_type": "code",
   "execution_count": 83,
   "metadata": {},
   "outputs": [
    {
     "name": "stdout",
     "output_type": "stream",
     "text": [
      "Indian Institute of Technology dhArwAD (IITdh) is one of the third Generation (3-G) IITs, which were established by the Ministry of Education (MoE), Government of India (GoI). It was started in August 2016 under the mentorship of IIT Bombay. Our academic journey began in the Academic Year (AY) 2016-17, with the establishment of four-year Bachelor of Technology (B. Tech.) programs - Mechanical Engineering (ME), Electrical Engineering (EE) and Computer Science & Engineering (CSE).\n",
      "\n",
      "View our Vision & Mission\n",
      "\n",
      "Currently our Institute offers four other B. Tech. programs - Engineering Physics (EP), Mathematics & Computing (M&C), Civil & Infrastructure Engineering (C&IE), Chemical & Biochemical Engineering (C&BE) as well as a five-year Bachelor of Science-Master of Science (BS-MS) program, a two-year Master of Technology (M. Tech.) Program and a Master of Science (MS) Program offered by the three oldest Departments of Mechanical, Materials & Aerospace Engineering (MMAE), Electrical, Electronics & Communication Engineering (EECE) and CSE. Our Ph. D program is offered by all the ten Departments [which also include the other seven Departments of Bio Science & Bio Engineering (BSBE), Chemical Engineering (ChE), Chemistry, C&IE, Humanities, Economics, Arts and Rural Technologies (HEART), Mathematics and Physics].\n",
      "\n",
      "\n",
      "Presently, IIT dhArwAD accommodates around 1,075 students, with around 20% being women. The diverse student body hails from 20 states/ Union territories (UTs) out of the 36 states/ UTs across the country. Among them, around 20% are pursuing Masters and Doctoral degrees. Our academic community [with a strength of 94 regular faculty and 12 adjunct faculty/visiting faculty/ professors of practice attached to ten departments], has been successful in securing significant research and development projects, executing sponsored consultancy projects, and publishing hundreds of scientific manuscripts in reputed journals and conference proceedings.\n",
      "\n",
      "The Institute's objective is to achieve global recognition in education and research by fostering a receptive learning environment, creating knowledge, and promoting scientific breakthroughs and innovative technologies. Nurturing interdisciplinary research and an ecologically harmonious campus creates the right environment for our students and faculty to thrive. The Institute has carefully planned and built a world-class infrastructure in a sprawling area of 470 acres [encompassing 67 acres of natural forest], which will be net zero in terms of water, energy, and waste. Our recent Meeting of the Board of Governors (BoG) has decided on a very ambitious timeline of achieving this objective by the year 2030 itself.\n",
      "\n",
      "Over the past seven years, IIT dhArwAD has strategically brought on board a faculty with a global exposure, emphasizing on high-quality research and interdisciplinary programs. With a holistic approach to research, the institute collaborates in thrust areas like net zero (i.e., sustainable) physical infrastructure, Cyber-Physical Systems, Green Mobility, Precision Agri-Tech, 3-D Printing for Additive/Subtractive Manufacturing. Noteworthy initiatives include a Space Data Science Lab (SDSL) and two Global Centres of Excellence [GCoE] in Affordable and Clean Energy (ACE) and Indian Knowledge Systems (IKS). The Institute's commitment to innovation and sustainable development is evident through partnerships, sponsored projects, and support from entities like dhaRti (dhArwAD Research Technology and Incubation) and the Institute Innovation Council (IIC).\n",
      "\n",
      "IIT DHARWAD has established Global Centre of Excellence for Affordable and Clean Energy (GCoE ACE) with the mission of the centre is to make Affordable and Clean Energy (ACE) a backbone of India's development.           \n",
      "\n",
      "In December 2022, IIT DHARWAD was awarded 5-star Rating under Green Rating for Integrated Habitat Assessment (GRIHA), Large Development (LD) Master Plan.\n",
      "\n",
      "Transit Campus\n",
      "The transit campus of IIT DHARWAD has been established within the WALMI (Water and Land Management Institute) campus (135 acres), which is adjacent to dhArwAD bench of High Court Belur, on the National Highway (NH-4) that connects Mumbai-Bengaluru. With the availability of regular transport service, the campus is easy to reach from any point in dhArwAD and all the major facilities are within a 10 km radius from the campus. IIT DHARWAD is less than 30 km away from Hubbali, the second largest city in Karnataka. WALMI has been generous in providing the necessary infrastructure for the students' hostels, class rooms, laboratories etc.\n",
      "\n",
      "\n",
      " \n",
      "\n",
      "Permanent Campus\n",
      "About 470 acres of land has been allotted by the Karnataka Government for the permanent campus of IIT DHARWAD. The campus design is based on the theme of \"Sustainable Green Campus\", inspired by historical origins of Hubballi dhArwAD.\n",
      "\n"
     ]
    }
   ],
   "source": [
    "print(doc[0].text)"
   ]
  },
  {
   "cell_type": "code",
   "execution_count": 84,
   "metadata": {},
   "outputs": [
    {
     "name": "stdout",
     "output_type": "stream",
     "text": [
      "callback_manager=<llama_index.core.callbacks.base.CallbackManager object at 0x773a606ce030> system_prompt=None messages_to_prompt=<function messages_to_prompt at 0x773a87f193a0> completion_to_prompt=<function default_completion_to_prompt at 0x773a87f8f4c0> output_parser=None pydantic_program_mode=<PydanticProgramMode.DEFAULT: 'default'> query_wrapper_prompt=None model='models/gemini-pro' temperature=0.1 max_tokens=2048 generate_kwargs={}\n"
     ]
    }
   ],
   "source": [
    "model = Gemini(model='models/gemini-pro', api_key=gemini_api_key)\n",
    "print(model)"
   ]
  },
  {
   "cell_type": "markdown",
   "metadata": {},
   "source": [
    "### Creating Embeddings"
   ]
  },
  {
   "cell_type": "code",
   "execution_count": 85,
   "metadata": {},
   "outputs": [],
   "source": [
    "gemini_embed_model = GeminiEmbedding(\n",
    "    model_name='models/embedding-001',\n",
    "    api_key=gemini_api_key\n",
    ")"
   ]
  },
  {
   "cell_type": "markdown",
   "metadata": {},
   "source": [
    "### Creating ServiceContext"
   ]
  },
  {
   "cell_type": "code",
   "execution_count": 86,
   "metadata": {},
   "outputs": [],
   "source": [
    "Settings.llm = model\n",
    "Settings.embed_model = gemini_embed_model\n",
    "Settings.node_parser = SentenceSplitter(chunk_size=800, chunk_overlap=20)\n"
   ]
  },
  {
   "cell_type": "markdown",
   "metadata": {},
   "source": [
    "### Creating VectorStore"
   ]
  },
  {
   "cell_type": "code",
   "execution_count": 87,
   "metadata": {},
   "outputs": [],
   "source": [
    "index = VectorStoreIndex(doc, embed_model=gemini_embed_model)"
   ]
  },
  {
   "cell_type": "code",
   "execution_count": 88,
   "metadata": {},
   "outputs": [],
   "source": [
    "index.storage_context.persist()"
   ]
  },
  {
   "cell_type": "code",
   "execution_count": 89,
   "metadata": {},
   "outputs": [],
   "source": [
    "query_engine = index.as_query_engine()"
   ]
  },
  {
   "cell_type": "markdown",
   "metadata": {},
   "source": [
    "### Quering from VectorStore"
   ]
  },
  {
   "cell_type": "code",
   "execution_count": 92,
   "metadata": {},
   "outputs": [
    {
     "name": "stdout",
     "output_type": "stream",
     "text": [
      "Indian Institute of Technology dhArwAD\n"
     ]
    }
   ],
   "source": [
    "response = query_engine.query(\"Full form of IIT Dh\")\n",
    "print(response.response)"
   ]
  },
  {
   "cell_type": "code",
   "execution_count": 93,
   "metadata": {},
   "outputs": [
    {
     "name": "stdout",
     "output_type": "stream",
     "text": [
      "- Mechanical Engineering (ME)\n",
      "- Electrical Engineering (EE)\n",
      "- Computer Science & Engineering (CSE)\n",
      "- Engineering Physics (EP)\n",
      "- Mathematics & Computing (M&C)\n",
      "- Civil & Infrastructure Engineering (C&IE)\n",
      "- Chemical & Biochemical Engineering (C&BE)\n"
     ]
    }
   ],
   "source": [
    "response = query_engine.query(\"what are the B.tech programs IIT Dharwad is offering\")\n",
    "print(response.response)"
   ]
  },
  {
   "cell_type": "code",
   "execution_count": 95,
   "metadata": {},
   "outputs": [
    {
     "name": "stdout",
     "output_type": "stream",
     "text": [
      "IIT dhArwAD accommodates around 1,075 students, with around 20% being women. The diverse student body hails from 20 states/ Union territories (UTs) out of the 36 states/ UTs across the country. Among them, around 20% are pursuing Masters and Doctoral degrees.\n"
     ]
    }
   ],
   "source": [
    "response = query_engine.query(\"give me some information of student there\")\n",
    "print(response.response)"
   ]
  },
  {
   "cell_type": "code",
   "execution_count": 97,
   "metadata": {},
   "outputs": [
    {
     "name": "stdout",
     "output_type": "stream",
     "text": [
      "Hubballi dhArwAD\n"
     ]
    }
   ],
   "source": [
    "response = query_engine.query(\"from which historical place IIT Dharwad is inspired from\")\n",
    "print(response.response)"
   ]
  },
  {
   "cell_type": "code",
   "execution_count": 98,
   "metadata": {},
   "outputs": [
    {
     "name": "stdout",
     "output_type": "stream",
     "text": [
      "IIT Dharwad has a diverse student body from 20 states/ Union territories (UTs) out of the 36 states/ UTs across the country. Around 20% of the students are pursuing Masters and Doctoral degrees. The institute has carefully planned and built a world-class infrastructure in a sprawling area of 470 acres [encompassing 67 acres of natural forest], which will be net zero in terms of water, energy, and waste. IIT Dharwad has strategically brought on board a faculty with a global exposure, emphasizing on high-quality research and interdisciplinary programs. The institute collaborates in thrust areas like net zero (i.e., sustainable) physical infrastructure, Cyber-Physical Systems, Green Mobility, Precision Agri-Tech, 3-D Printing for Additive/Subtractive Manufacturing. Noteworthy initiatives include a Space Data Science Lab (SDSL) and two Global Centres of Excellence [GCoE] in Affordable and Clean Energy (ACE) and Indian Knowledge Systems (IKS).\n"
     ]
    }
   ],
   "source": [
    "response = query_engine.query(\"tell me some deep insights of IIT Dharwad\")\n",
    "print(response.response)"
   ]
  },
  {
   "cell_type": "code",
   "execution_count": null,
   "metadata": {},
   "outputs": [],
   "source": []
  }
 ],
 "metadata": {
  "kernelspec": {
   "display_name": "Python 3",
   "language": "python",
   "name": "python3"
  },
  "language_info": {
   "codemirror_mode": {
    "name": "ipython",
    "version": 3
   },
   "file_extension": ".py",
   "mimetype": "text/x-python",
   "name": "python",
   "nbconvert_exporter": "python",
   "pygments_lexer": "ipython3",
   "version": "3.12.4"
  }
 },
 "nbformat": 4,
 "nbformat_minor": 2
}
